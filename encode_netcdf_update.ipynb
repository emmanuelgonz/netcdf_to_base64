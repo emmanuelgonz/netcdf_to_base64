{
 "cells": [
  {
   "cell_type": "code",
   "execution_count": 1,
   "metadata": {},
   "outputs": [],
   "source": [
    "import netCDF4 as nc\n",
    "import matplotlib.pyplot as plt\n",
    "import base64\n",
    "import numpy as np\n",
    "from mpl_toolkits.axes_grid1 import make_axes_locatable\n",
    "\n",
    "def get_extents(dataset, variable):\n",
    "    # Extract the GeoTransform attribute\n",
    "    geo_transform = dataset.variables['spatial_ref'].GeoTransform.split()\n",
    "    print(geo_transform)\n",
    "\n",
    "    # Convert GeoTransform values to float\n",
    "    geo_transform = [float(value) for value in geo_transform]\n",
    "\n",
    "    # Calculate the extents (four corners)\n",
    "    min_x = geo_transform[0]\n",
    "    pixel_width = geo_transform[1]\n",
    "    max_y = geo_transform[3]\n",
    "    pixel_height = geo_transform[5]\n",
    "\n",
    "    # Get the actual dimensions of the raster layer\n",
    "    n_rows, n_cols = dataset.variables[variable][0, :, :].shape\n",
    "\n",
    "    # Calculate the coordinates of the four corners\n",
    "    top_left = (min_x, max_y)\n",
    "    top_right = (min_x + n_cols * pixel_width, max_y)\n",
    "    bottom_left = (min_x, max_y + n_rows * pixel_height)\n",
    "    bottom_right = (min_x + n_cols * pixel_width, max_y + n_rows * pixel_height)\n",
    "\n",
    "    return top_left, top_right, bottom_left, bottom_right\n",
    "\n",
    "def open_netcdf(file_path):\n",
    "    # Open the NetCDF file\n",
    "    dataset = nc.Dataset(file_path, mode='r')\n",
    "\n",
    "    return dataset\n",
    "\n",
    "def encode_raster_layer(dataset, variable):\n",
    "    # Extract snow cover\n",
    "    raster_layer = dataset.variables[variable][0, :, :]\n",
    "\n",
    "    # Convert the array to bytes and encode the bytes in base64\n",
    "    bytes = raster_layer.tobytes()\n",
    "    base64_raster_layer = base64.b64encode(bytes).decode('utf-8')\n",
    "\n",
    "    return raster_layer, base64_raster_layer\n",
    "\n",
    "def decode_raster_layer(raster_layer, base64_raster_layer):\n",
    "    # Decode the base64 string back to bytes\n",
    "    decoded_bytes = base64.b64decode(base64_raster_layer)\n",
    "    decoded_raster_layer = np.frombuffer(decoded_bytes, dtype=raster_layer.dtype).reshape(raster_layer.shape)\n",
    "\n",
    "    return decoded_raster_layer\n",
    "\n",
    "def open_encode(file_path, variable):\n",
    "    # Open the NetCDF file\n",
    "    dataset = open_netcdf(file_path)\n",
    "\n",
    "    # Get the extents (four corners) coordinates\n",
    "    top_left, top_right, bottom_left, bottom_right = get_extents(dataset, variable=variable)\n",
    "\n",
    "    # Encode the raster layer\n",
    "    raster_layer, base64_raster_layer = encode_raster_layer(dataset, variable=variable)\n",
    "\n",
    "    # Decode the raster layer\n",
    "    decoded_raster_layer = decode_raster_layer(raster_layer, base64_raster_layer)\n",
    "\n",
    "    return raster_layer, base64_raster_layer, top_left, top_right, bottom_left, bottom_right"
   ]
  },
  {
   "cell_type": "code",
   "execution_count": 2,
   "metadata": {},
   "outputs": [
    {
     "name": "stdout",
     "output_type": "stream",
     "text": [
      "['-113.91582164189471', '0.05000694540908461', '0.0', '49.763823284245625', '0.0', '-0.05001389274798555']\n",
      "['-113.94166666666666', '0.008333333333333331', '0.0', '49.741666666666674', '0.0', '-0.008333333333333335']\n"
     ]
    }
   ],
   "source": [
    "snow_layer_raster, snow_layer, top_left, top_right, bottom_left, bottom_right = open_encode(file_path='/mnt/c/Users/emgonz38/OneDrive - Arizona State University/ubuntu_files/netcdf_encode/input_data/Efficiency_high_resolution_Caesium/efficiency_snow_cover_highest_resolution.nc',\n",
    "                                                 variable='Weekly_Snow_Cover')\n",
    "resolution_layer_raster, resolution_layer, top_left, top_right, bottom_left, bottom_right = open_encode(file_path='/mnt/c/Users/emgonz38/OneDrive - Arizona State University/ubuntu_files/netcdf_encode/input_data/Efficiency_high_resolution_Caesium/efficiency_resolution_layer_highest_resolution.nc',\n",
    "                                                       variable='Monthly_Resolution_Abs')\n",
    "\n",
    "# snow_layer, top_left, top_right, bottom_left, bottom_right = open_encode(file_path='/mnt/c/Users/emgonz38/OneDrive - Arizona State University/ubuntu_files/netcdf_encode/input_data/Efficiency_resolution20_Optimization/efficiency_snow_cover.nc',\n",
    "#                                                     variable='Day_CMG_Snow_Cover')\n",
    "# resolution_layer, top_left, top_right, bottom_left, bottom_right = open_encode(file_path='/mnt/c/Users/emgonz38/OneDrive - Arizona State University/ubuntu_files/netcdf_encode/input_data/Efficiency_resolution20_Optimization/efficiency_resolution_layer.nc',\n",
    "#                                                         variable='Monthly_Resolution_Abs')"
   ]
  },
  {
   "cell_type": "code",
   "execution_count": 3,
   "metadata": {},
   "outputs": [],
   "source": [
    "plt.imsave('snow_raster_layer_high_resolution.png', snow_layer_raster, cmap='viridis')"
   ]
  },
  {
   "cell_type": "code",
   "execution_count": 4,
   "metadata": {},
   "outputs": [],
   "source": [
    "plt.imsave('resolution_raster_layer_high_resolution.png', resolution_layer_raster, cmap='viridis')"
   ]
  },
  {
   "cell_type": "code",
   "execution_count": null,
   "metadata": {},
   "outputs": [],
   "source": [
    "fig, axes = plt.subplots(1, 2, figsize=(14, 7))\n",
    "\n",
    "# Plot the original snow cover\n",
    "im0 = axes[0].imshow(raster_layer, cmap='viridis')\n",
    "axes[0].set_title('Original Day CMG Snow Cover')\n",
    "axes[0].set_xlabel('Longitude')\n",
    "axes[0].set_ylabel('Latitude')\n",
    "\n",
    "# Adjust the colorbar to be shorter\n",
    "divider0 = make_axes_locatable(axes[0])\n",
    "cax0 = divider0.append_axes(\"right\", size=\"5%\", pad=0.05)\n",
    "fig.colorbar(im0, cax=cax0, label='Snow Cover')\n",
    "# fig.colorbar(axes[0].images[0], ax=axes[0], label='Snow Cover')\n",
    "\n",
    "# Plot the decoded snow cover\n",
    "im = axes[1].imshow(decoded_raster_layer, cmap='viridis')\n",
    "axes[1].set_title('Decoded Day CMG Snow Cover')\n",
    "axes[1].set_xlabel('Longitude')\n",
    "axes[1].set_ylabel('Latitude')\n",
    "# Adjust the colorbar to be shorter\n",
    "\n",
    "divider = make_axes_locatable(axes[1])\n",
    "cax = divider.append_axes(\"right\", size=\"5%\", pad=0.05)\n",
    "fig.colorbar(im, cax=cax, label='Snow Cover')\n",
    "\n",
    "plt.tight_layout()\n",
    "plt.show()"
   ]
  }
 ],
 "metadata": {
  "kernelspec": {
   "display_name": "nost_updates",
   "language": "python",
   "name": "python3"
  },
  "language_info": {
   "codemirror_mode": {
    "name": "ipython",
    "version": 3
   },
   "file_extension": ".py",
   "mimetype": "text/x-python",
   "name": "python",
   "nbconvert_exporter": "python",
   "pygments_lexer": "ipython3",
   "version": "3.12.4"
  }
 },
 "nbformat": 4,
 "nbformat_minor": 2
}
